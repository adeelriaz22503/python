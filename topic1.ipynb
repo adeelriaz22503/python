{
 "cells": [
  {
   "cell_type": "code",
   "execution_count": 1,
   "id": "c31b93b6-1266-4df0-831c-442c338ce3ed",
   "metadata": {},
   "outputs": [
    {
     "name": "stdout",
     "output_type": "stream",
     "text": [
      "abc\n"
     ]
    }
   ],
   "source": [
    "# Showing output through print;\n",
    "print(\"abc\");"
   ]
  },
  {
   "cell_type": "code",
   "execution_count": 3,
   "id": "85681f44-8a8c-4060-8128-f9061e7ac1bc",
   "metadata": {},
   "outputs": [
    {
     "name": "stdin",
     "output_type": "stream",
     "text": [
      "enter your name Adeel riaz\n"
     ]
    }
   ],
   "source": [
    "# Taking input from user;\n",
    "name= input(\"enter your name\");"
   ]
  },
  {
   "cell_type": "code",
   "execution_count": 4,
   "id": "ac2fe3d4-db86-42c6-bdc8-33cce600a615",
   "metadata": {},
   "outputs": [
    {
     "name": "stdout",
     "output_type": "stream",
     "text": [
      "Adeel riaz\n"
     ]
    }
   ],
   "source": [
    "print(name);"
   ]
  },
  {
   "cell_type": "code",
   "execution_count": 10,
   "id": "f5435460-53d6-4816-894a-8920e254d988",
   "metadata": {},
   "outputs": [
    {
     "name": "stdout",
     "output_type": "stream",
     "text": [
      "the user is:adeeland his degree is:BSCS\n"
     ]
    }
   ],
   "source": [
    "user =\"adeel\";\n",
    "degree =\"BSCS\";\n",
    "print(\"the user is:\" + user + \"and his degree is:\" + degree);"
   ]
  },
  {
   "cell_type": "code",
   "execution_count": null,
   "id": "d45eb4bd-718a-4dd6-9856-75f65fe6dccd",
   "metadata": {},
   "outputs": [],
   "source": []
  }
 ],
 "metadata": {
  "kernelspec": {
   "display_name": "Python 3 (ipykernel)",
   "language": "python",
   "name": "python3"
  },
  "language_info": {
   "codemirror_mode": {
    "name": "ipython",
    "version": 3
   },
   "file_extension": ".py",
   "mimetype": "text/x-python",
   "name": "python",
   "nbconvert_exporter": "python",
   "pygments_lexer": "ipython3",
   "version": "3.13.2"
  }
 },
 "nbformat": 4,
 "nbformat_minor": 5
}
